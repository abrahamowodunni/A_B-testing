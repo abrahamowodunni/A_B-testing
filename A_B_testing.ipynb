{
 "cells": [
  {
   "cell_type": "code",
   "execution_count": 32,
   "id": "ed7c65f2-baa9-4324-85a9-ee6a5adc056f",
   "metadata": {},
   "outputs": [],
   "source": [
    "import numpy as np \n",
    "import pandas as pd \n",
    "from scipy.stats import norm"
   ]
  },
  {
   "cell_type": "code",
   "execution_count": 2,
   "id": "125b41a6-c82f-4fc5-a6dd-22c4fb074dec",
   "metadata": {},
   "outputs": [],
   "source": [
    "N_exp = 10000\n",
    "N_con = 10000"
   ]
  },
  {
   "cell_type": "code",
   "execution_count": 3,
   "id": "7b624407-cff3-4990-929f-19b458e78e1b",
   "metadata": {},
   "outputs": [],
   "source": [
    "click_exp = pd.Series(np.random.binomial(1,0.4,size = N_exp)) # success of 0.4\n",
    "click_con = pd.Series(np.random.binomial(1,0.2,size = N_con)) # success of 0.2"
   ]
  },
  {
   "cell_type": "code",
   "execution_count": 5,
   "id": "8189cc7d-fac0-4ef7-903d-961dda2d9043",
   "metadata": {},
   "outputs": [],
   "source": [
    "exp_id = pd.Series(np.repeat('exp',N_exp))\n",
    "con_id = pd.Series(np.repeat('con',N_con))"
   ]
  },
  {
   "cell_type": "code",
   "execution_count": 8,
   "id": "596a3d46-049a-403c-bf2e-7fb9d12f9ab0",
   "metadata": {},
   "outputs": [],
   "source": [
    "df_exp = pd.concat([click_exp, exp_id], axis=1)\n",
    "df_con = pd.concat([click_con, con_id], axis=1)"
   ]
  },
  {
   "cell_type": "code",
   "execution_count": 12,
   "id": "16645ddd-7b47-4fb0-8876-02980f7b7fd7",
   "metadata": {},
   "outputs": [],
   "source": [
    "df_exp.columns = [\"click\", \"group\"]\n",
    "df_con.columns = [\"click\", \"group\"]"
   ]
  },
  {
   "cell_type": "code",
   "execution_count": 13,
   "id": "a7b52e97-821a-4502-a71c-473db1b35120",
   "metadata": {},
   "outputs": [
    {
     "data": {
      "text/html": [
       "<div>\n",
       "<style scoped>\n",
       "    .dataframe tbody tr th:only-of-type {\n",
       "        vertical-align: middle;\n",
       "    }\n",
       "\n",
       "    .dataframe tbody tr th {\n",
       "        vertical-align: top;\n",
       "    }\n",
       "\n",
       "    .dataframe thead th {\n",
       "        text-align: right;\n",
       "    }\n",
       "</style>\n",
       "<table border=\"1\" class=\"dataframe\">\n",
       "  <thead>\n",
       "    <tr style=\"text-align: right;\">\n",
       "      <th></th>\n",
       "      <th>click</th>\n",
       "      <th>group</th>\n",
       "    </tr>\n",
       "  </thead>\n",
       "  <tbody>\n",
       "    <tr>\n",
       "      <th>0</th>\n",
       "      <td>0</td>\n",
       "      <td>exp</td>\n",
       "    </tr>\n",
       "    <tr>\n",
       "      <th>1</th>\n",
       "      <td>1</td>\n",
       "      <td>exp</td>\n",
       "    </tr>\n",
       "    <tr>\n",
       "      <th>2</th>\n",
       "      <td>1</td>\n",
       "      <td>exp</td>\n",
       "    </tr>\n",
       "    <tr>\n",
       "      <th>3</th>\n",
       "      <td>1</td>\n",
       "      <td>exp</td>\n",
       "    </tr>\n",
       "    <tr>\n",
       "      <th>4</th>\n",
       "      <td>0</td>\n",
       "      <td>exp</td>\n",
       "    </tr>\n",
       "    <tr>\n",
       "      <th>...</th>\n",
       "      <td>...</td>\n",
       "      <td>...</td>\n",
       "    </tr>\n",
       "    <tr>\n",
       "      <th>19995</th>\n",
       "      <td>0</td>\n",
       "      <td>con</td>\n",
       "    </tr>\n",
       "    <tr>\n",
       "      <th>19996</th>\n",
       "      <td>1</td>\n",
       "      <td>con</td>\n",
       "    </tr>\n",
       "    <tr>\n",
       "      <th>19997</th>\n",
       "      <td>0</td>\n",
       "      <td>con</td>\n",
       "    </tr>\n",
       "    <tr>\n",
       "      <th>19998</th>\n",
       "      <td>0</td>\n",
       "      <td>con</td>\n",
       "    </tr>\n",
       "    <tr>\n",
       "      <th>19999</th>\n",
       "      <td>0</td>\n",
       "      <td>con</td>\n",
       "    </tr>\n",
       "  </tbody>\n",
       "</table>\n",
       "<p>20000 rows × 2 columns</p>\n",
       "</div>"
      ],
      "text/plain": [
       "       click group\n",
       "0          0   exp\n",
       "1          1   exp\n",
       "2          1   exp\n",
       "3          1   exp\n",
       "4          0   exp\n",
       "...      ...   ...\n",
       "19995      0   con\n",
       "19996      1   con\n",
       "19997      0   con\n",
       "19998      0   con\n",
       "19999      0   con\n",
       "\n",
       "[20000 rows x 2 columns]"
      ]
     },
     "execution_count": 13,
     "metadata": {},
     "output_type": "execute_result"
    }
   ],
   "source": [
    "df_ab_testing = pd.concat([df_exp, df_con], axis = 0).reset_index(drop=True)\n",
    "df_ab_testing"
   ]
  },
  {
   "cell_type": "code",
   "execution_count": 14,
   "id": "ba1ec6e5-e0d1-4e01-a3c0-90faa8e51bd9",
   "metadata": {},
   "outputs": [],
   "source": [
    "x_con = df_ab_testing.groupby('group')['click'].sum().loc['con']\n",
    "x_exp = df_ab_testing.groupby('group')['click'].sum().loc['exp']"
   ]
  },
  {
   "cell_type": "code",
   "execution_count": 16,
   "id": "d2e6e3aa-50d7-402a-9ab1-a7f9fb4f93f2",
   "metadata": {},
   "outputs": [
    {
     "data": {
      "text/plain": [
       "(1985, 4039)"
      ]
     },
     "execution_count": 16,
     "metadata": {},
     "output_type": "execute_result"
    }
   ],
   "source": [
    "x_con, x_exp"
   ]
  },
  {
   "cell_type": "code",
   "execution_count": 19,
   "id": "eee74e8e-f7ab-4f4a-aa12-828086b2aec6",
   "metadata": {},
   "outputs": [
    {
     "name": "stdout",
     "output_type": "stream",
     "text": [
      "<class 'pandas.core.frame.DataFrame'>\n",
      "RangeIndex: 20000 entries, 0 to 19999\n",
      "Data columns (total 2 columns):\n",
      " #   Column  Non-Null Count  Dtype \n",
      "---  ------  --------------  ----- \n",
      " 0   click   20000 non-null  int32 \n",
      " 1   group   20000 non-null  object\n",
      "dtypes: int32(1), object(1)\n",
      "memory usage: 234.5+ KB\n"
     ]
    }
   ],
   "source": [
    "df_ab_testing.info()"
   ]
  },
  {
   "cell_type": "code",
   "execution_count": 20,
   "id": "a11b4ad8-c539-4cc4-8e32-491353e2465d",
   "metadata": {},
   "outputs": [
    {
     "data": {
      "text/plain": [
       "group\n",
       "con    1985\n",
       "exp    4039\n",
       "Name: click, dtype: int32"
      ]
     },
     "execution_count": 20,
     "metadata": {},
     "output_type": "execute_result"
    }
   ],
   "source": [
    "df_ab_testing.groupby(\"group\")['click'].sum()"
   ]
  },
  {
   "cell_type": "code",
   "execution_count": 23,
   "id": "9a9029d0-65a7-477c-bad3-270bdfba0dba",
   "metadata": {},
   "outputs": [
    {
     "data": {
      "text/plain": [
       "(0.2, 0.4)"
      ]
     },
     "execution_count": 23,
     "metadata": {},
     "output_type": "execute_result"
    }
   ],
   "source": [
    "p_con_hat = x_con/N_con\n",
    "p_exp_hat = x_exp/N_exp\n",
    "\n",
    "round(p_con_hat, 2), round(p_exp_hat, 2)"
   ]
  },
  {
   "cell_type": "code",
   "execution_count": 25,
   "id": "44ca09f0-f947-43ad-bcca-c179fe2d03b7",
   "metadata": {},
   "outputs": [
    {
     "data": {
      "text/plain": [
       "'p^_pooled is: 0.3012 and pooled_variance is: 4.2095712000000004e-05'"
      ]
     },
     "execution_count": 25,
     "metadata": {},
     "output_type": "execute_result"
    }
   ],
   "source": [
    "p_pooled_hat = (x_con + x_exp)/(N_con + N_exp)\n",
    "\n",
    "pooled_variance = p_pooled_hat * (1-p_pooled_hat) * (1/N_con + 1/N_exp)\n",
    "\n",
    "f\"p^_pooled is: {p_pooled_hat} and pooled_variance is: {pooled_variance}\""
   ]
  },
  {
   "cell_type": "code",
   "execution_count": 26,
   "id": "c85a6fc4-2f12-4ee5-926c-290f65387e53",
   "metadata": {},
   "outputs": [
    {
     "data": {
      "text/plain": [
       "0.006488120837345741"
      ]
     },
     "execution_count": 26,
     "metadata": {},
     "output_type": "execute_result"
    }
   ],
   "source": [
    "std = np.sqrt(pooled_variance)\n",
    "std"
   ]
  },
  {
   "cell_type": "code",
   "execution_count": 27,
   "id": "34b11b64-6abf-4399-b6e3-a96a7c7c5940",
   "metadata": {},
   "outputs": [
    {
     "data": {
      "text/plain": [
       "-31.65785674300544"
      ]
     },
     "execution_count": 27,
     "metadata": {},
     "output_type": "execute_result"
    }
   ],
   "source": [
    "t_test = (p_con_hat - p_exp_hat)/std\n",
    "t_test"
   ]
  },
  {
   "cell_type": "code",
   "execution_count": 28,
   "id": "2c819779-a3a4-4346-88ea-772d2d842df6",
   "metadata": {},
   "outputs": [],
   "source": [
    "alpha = 0.05"
   ]
  },
  {
   "cell_type": "code",
   "execution_count": 33,
   "id": "7b5d7d5f-c5a4-437f-a6c4-047eddcef8ec",
   "metadata": {},
   "outputs": [
    {
     "data": {
      "text/plain": [
       "1.6448536269514722"
      ]
     },
     "execution_count": 33,
     "metadata": {},
     "output_type": "execute_result"
    }
   ],
   "source": [
    "z_crit = norm.ppf(1-alpha/1)\n",
    "z_crit"
   ]
  },
  {
   "cell_type": "code",
   "execution_count": 36,
   "id": "d10c377c-4bd2-42ba-89b3-83285caf1b26",
   "metadata": {},
   "outputs": [
    {
     "data": {
      "text/plain": [
       "0.0"
      ]
     },
     "execution_count": 36,
     "metadata": {},
     "output_type": "execute_result"
    }
   ],
   "source": [
    "p_value = 2 * norm.sf(abs(t_test))\n",
    "round(p_value,2)"
   ]
  },
  {
   "cell_type": "code",
   "execution_count": 37,
   "id": "20862a74-d907-46f1-9602-70657ffca9bd",
   "metadata": {},
   "outputs": [],
   "source": [
    "CI = [round((p_exp_hat - p_con_hat) - std * z_crit, 3), round((p_exp_hat - p_con_hat)+std*z_crit,3)]"
   ]
  },
  {
   "cell_type": "code",
   "execution_count": 38,
   "id": "cfca06a8-5e48-452f-bfc6-cc07e8c64c82",
   "metadata": {},
   "outputs": [
    {
     "data": {
      "text/plain": [
       "[0.195, 0.216]"
      ]
     },
     "execution_count": 38,
     "metadata": {},
     "output_type": "execute_result"
    }
   ],
   "source": [
    "CI"
   ]
  },
  {
   "cell_type": "code",
   "execution_count": null,
   "id": "6db7578e-93c9-479a-9177-4e16a861feac",
   "metadata": {},
   "outputs": [],
   "source": [
    "delta = 0.03 # this is lower meaning it is practically significant "
   ]
  }
 ],
 "metadata": {
  "kernelspec": {
   "display_name": "Python 3 (ipykernel)",
   "language": "python",
   "name": "python3"
  },
  "language_info": {
   "codemirror_mode": {
    "name": "ipython",
    "version": 3
   },
   "file_extension": ".py",
   "mimetype": "text/x-python",
   "name": "python",
   "nbconvert_exporter": "python",
   "pygments_lexer": "ipython3",
   "version": "3.11.5"
  }
 },
 "nbformat": 4,
 "nbformat_minor": 5
}
